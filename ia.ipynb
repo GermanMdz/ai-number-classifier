{
 "cells": [
  {
   "cell_type": "markdown",
   "metadata": {},
   "source": [
    "# Mi IA\n",
    "La red neuronal se va a representar con matrices y poseera las siguientes caracteristicas: \n",
    " - valores de entrada\n",
    " - neuronas de una capa\n",
    " - valores de salida\n",
    " \n",
    "![image](img/theory/red.png)\n",
    "\n",
    "<hr style=\"border: none; border-top: 1px solid #ccc; margin: 0;\">\n",
    "\n",
    "- #### **x** representa la matriz de valores de entrada (valores devueltos por la capa anterior, sea la capa de entrada o una capa oculta):\n",
    "    ![image](img/theory/x.png)\n",
    "\n",
    "<hr style=\"border: none; border-top: 1px solid #ccc; margin: 0;\">\n",
    "\n",
    "- #### **W** es la matriz de pesos que llegan a la capa que estemos considerando\n",
    "    ![image](img/theory/W.png)\n",
    "    - **nro de filas** = nro de neuronas de la capa considerada\n",
    "    - **nro de columnas** = nro de neuronas de la capa anterior (sea la capa de entrada o una capa oculta)\n",
    "    \n",
    "<hr style=\"border: none; border-top: 1px solid #ccc; margin: 0;\">\n",
    "\n",
    "- #### **b** representa la matriz de bias <small>*(valores a sumar)*</small>\n",
    "    ![image](img/theory/b.png)\n",
    "    - **nro filas** = nro neuronas de la capa considerada    \n",
    "\n",
    "<hr style=\"border: none; border-top: 1px solid #ccc; margin: 0;\">\n",
    "\n",
    "- #### **y** representa la matriz de salida\n",
    "    - es el resultado de realizar la siguiente operacion:\n",
    "    \n",
    "    ![image](img/theory/y.png)\n",
    "        \n",
    "    donde **σ** es la funcion de activacion \"sigmoid\"\n",
    "    \n",
    "    ![image](img/theory/sigmoid.png)\n",
    "\n",
    "<hr style=\"border: none; border-top: 1px solid #ccc; margin: 0;\">\n",
    "\n",
    "#### Un ejemplo:\n",
    "![image](img/theory/example.png)"
   ]
  },
  {
   "cell_type": "code",
   "execution_count": 7,
   "metadata": {},
   "outputs": [
    {
     "data": {
      "text/plain": [
       "array([[0.99752738],\n",
       "       [0.00669285],\n",
       "       [0.88079708]])"
      ]
     },
     "execution_count": 7,
     "metadata": {},
     "output_type": "execute_result"
    }
   ],
   "source": [
    "import numpy as np\n",
    "import matplotlib.pyplot as plt\n",
    "import pandas as pd\n",
    "\n",
    "def sigmoid(z):\n",
    "    return 1/(1+np.exp(-z))\n",
    "\n",
    "x = np.array([3,1]).reshape(2, 1)\n",
    "W = np.array([2, 1, -3, 4, -2, 5]).reshape(3, 2)\n",
    "b = np.array([-1,0,3]).reshape(3,1)\n",
    "\n",
    "y = sigmoid(W.dot(x)+b)\n",
    "y"
   ]
  },
  {
   "cell_type": "markdown",
   "metadata": {},
   "source": [
    "![image](img/theory/exits.png)"
   ]
  },
  {
   "cell_type": "markdown",
   "metadata": {},
   "source": [
    "#### Para la funcion de perdida y el calculo de gradientes las formulas son las siguientes:\n",
    "- valor medio de los errores parciales\n",
    "\n",
    "    ![image](img/theory/loss.png)\n",
    "\n",
    "- funcion de perdida\n",
    "    $$ pesos - gradientePesos * learningRate $$\n",
    "    $$ bias - gradienteBias * learningRate $$"
   ]
  }
 ],
 "metadata": {
  "kernelspec": {
   "display_name": "Python 3",
   "language": "python",
   "name": "python3"
  },
  "language_info": {
   "codemirror_mode": {
    "name": "ipython",
    "version": 3
   },
   "file_extension": ".py",
   "mimetype": "text/x-python",
   "name": "python",
   "nbconvert_exporter": "python",
   "pygments_lexer": "ipython3",
   "version": "3.11.3"
  }
 },
 "nbformat": 4,
 "nbformat_minor": 2
}
